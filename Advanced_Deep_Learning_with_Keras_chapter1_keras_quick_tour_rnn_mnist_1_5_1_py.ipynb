{
  "nbformat": 4,
  "nbformat_minor": 0,
  "metadata": {
    "colab": {
      "name": "Advanced-Deep-Learning-with-Keras/chapter1-keras-quick-tour/rnn-mnist-1.5.1.py.ipynb",
      "version": "0.3.2",
      "provenance": [],
      "include_colab_link": true
    },
    "kernelspec": {
      "name": "python3",
      "display_name": "Python 3"
    }
  },
  "cells": [
    {
      "cell_type": "markdown",
      "metadata": {
        "id": "view-in-github",
        "colab_type": "text"
      },
      "source": [
        "<a href=\"https://colab.research.google.com/github/wolfram-roemhild/Advanced-Deep-Learning-with-Keras/blob/master/Advanced_Deep_Learning_with_Keras_chapter1_keras_quick_tour_rnn_mnist_1_5_1_py.ipynb\" target=\"_parent\"><img src=\"https://colab.research.google.com/assets/colab-badge.svg\" alt=\"Open In Colab\"/></a>"
      ]
    },
    {
      "metadata": {
        "id": "ANUlTwXBc6-F",
        "colab_type": "code",
        "colab": {
          "base_uri": "https://localhost:8080/",
          "height": 35
        },
        "outputId": "ae5b0c7c-bef7-4b38-fa91-2c701dcd452a"
      },
      "cell_type": "code",
      "source": [
        "'''\n",
        "RNN for MNIST digits classification\n",
        "98.3% test accuracy in 20epochs\n",
        "https://github.com/PacktPublishing/Advanced-Deep-Learning-with-Keras\n",
        "'''\n",
        "\n",
        "from __future__ import absolute_import\n",
        "from __future__ import division\n",
        "from __future__ import print_function\n",
        "\n",
        "import numpy as np\n",
        "from keras.models import Sequential\n",
        "from keras.layers import Dense, Activation, SimpleRNN\n",
        "from keras.utils import to_categorical, plot_model\n",
        "from keras.datasets import mnist\n",
        "\n",
        "# load mnist dataset\n",
        "(x_train, y_train), (x_test, y_test) = mnist.load_data()\n",
        "\n",
        "# compute the number of labels\n",
        "num_labels = len(np.unique(y_train))\n",
        "\n",
        "# convert to one-hot vector\n",
        "y_train = to_categorical(y_train)\n",
        "y_test = to_categorical(y_test)\n",
        "\n",
        "# resize and normalize\n",
        "image_size = x_train.shape[1]\n",
        "x_train = np.reshape(x_train,[-1, image_size, image_size])\n",
        "x_test = np.reshape(x_test,[-1, image_size, image_size])\n",
        "x_train = x_train.astype('float32') / 255\n",
        "x_test = x_test.astype('float32') / 255"
      ],
      "execution_count": 1,
      "outputs": [
        {
          "output_type": "stream",
          "text": [
            "Using TensorFlow backend.\n"
          ],
          "name": "stderr"
        }
      ]
    },
    {
      "metadata": {
        "id": "Q_VU_HMgdKtl",
        "colab_type": "code",
        "colab": {
          "base_uri": "https://localhost:8080/",
          "height": 251
        },
        "outputId": "efc2434d-c1fe-4b60-f00c-b18204735287"
      },
      "cell_type": "code",
      "source": [
        "# network parameters\n",
        "input_shape = (image_size, image_size)\n",
        "batch_size = 128\n",
        "units = 256\n",
        "dropout = 0.2\n",
        "\n",
        "# model is RNN with 256 units, input is 28-dim vector 28 timesteps\n",
        "model = Sequential()\n",
        "model.add(SimpleRNN(units=units,\n",
        "                    dropout=dropout,\n",
        "                    input_shape=input_shape))\n",
        "model.add(Dense(num_labels))\n",
        "model.add(Activation('softmax'))\n",
        "model.summary()\n",
        "plot_model(model, to_file='rnn-mnist.png', show_shapes=True)\n"
      ],
      "execution_count": 3,
      "outputs": [
        {
          "output_type": "stream",
          "text": [
            "_________________________________________________________________\n",
            "Layer (type)                 Output Shape              Param #   \n",
            "=================================================================\n",
            "simple_rnn_1 (SimpleRNN)     (None, 256)               72960     \n",
            "_________________________________________________________________\n",
            "dense_1 (Dense)              (None, 10)                2570      \n",
            "_________________________________________________________________\n",
            "activation_1 (Activation)    (None, 10)                0         \n",
            "=================================================================\n",
            "Total params: 75,530\n",
            "Trainable params: 75,530\n",
            "Non-trainable params: 0\n",
            "_________________________________________________________________\n"
          ],
          "name": "stdout"
        }
      ]
    },
    {
      "metadata": {
        "id": "ZgIUVl3zdV5B",
        "colab_type": "code",
        "colab": {
          "base_uri": "https://localhost:8080/",
          "height": 755
        },
        "outputId": "2dddd122-0dab-4ccb-eaf9-e9d018953d38"
      },
      "cell_type": "code",
      "source": [
        "# loss function for one-hot vector\n",
        "# use of sgd optimizer\n",
        "# accuracy is good metric for classification tasks\n",
        "model.compile(loss='categorical_crossentropy',\n",
        "              optimizer='sgd',\n",
        "              metrics=['accuracy'])\n",
        "# train the network\n",
        "model.fit(x_train, y_train, epochs=20, batch_size=batch_size)"
      ],
      "execution_count": 4,
      "outputs": [
        {
          "output_type": "stream",
          "text": [
            "Epoch 1/20\n",
            "60000/60000 [==============================] - 22s 360us/step - loss: 0.8252 - acc: 0.7579\n",
            "Epoch 2/20\n",
            "60000/60000 [==============================] - 21s 351us/step - loss: 0.3805 - acc: 0.8879\n",
            "Epoch 3/20\n",
            "60000/60000 [==============================] - 21s 352us/step - loss: 0.2816 - acc: 0.9170\n",
            "Epoch 4/20\n",
            "60000/60000 [==============================] - 21s 350us/step - loss: 0.2339 - acc: 0.9305\n",
            "Epoch 5/20\n",
            "60000/60000 [==============================] - 21s 350us/step - loss: 0.2060 - acc: 0.9383\n",
            "Epoch 6/20\n",
            "60000/60000 [==============================] - 21s 348us/step - loss: 0.1830 - acc: 0.9447\n",
            "Epoch 7/20\n",
            "60000/60000 [==============================] - 21s 353us/step - loss: 0.1654 - acc: 0.9501\n",
            "Epoch 8/20\n",
            "60000/60000 [==============================] - 21s 352us/step - loss: 0.1544 - acc: 0.9535\n",
            "Epoch 9/20\n",
            "60000/60000 [==============================] - 21s 349us/step - loss: 0.1464 - acc: 0.9558\n",
            "Epoch 10/20\n",
            "60000/60000 [==============================] - 21s 349us/step - loss: 0.1358 - acc: 0.9590\n",
            "Epoch 11/20\n",
            "60000/60000 [==============================] - 21s 350us/step - loss: 0.1285 - acc: 0.9609\n",
            "Epoch 12/20\n",
            "60000/60000 [==============================] - 21s 351us/step - loss: 0.1227 - acc: 0.9631\n",
            "Epoch 13/20\n",
            "60000/60000 [==============================] - 21s 351us/step - loss: 0.1164 - acc: 0.9651\n",
            "Epoch 14/20\n",
            "60000/60000 [==============================] - 21s 351us/step - loss: 0.1135 - acc: 0.9654\n",
            "Epoch 15/20\n",
            "60000/60000 [==============================] - 21s 350us/step - loss: 0.1071 - acc: 0.9670\n",
            "Epoch 16/20\n",
            "60000/60000 [==============================] - 21s 350us/step - loss: 0.1056 - acc: 0.9682\n",
            "Epoch 17/20\n",
            "60000/60000 [==============================] - 21s 350us/step - loss: 0.1010 - acc: 0.9687\n",
            "Epoch 18/20\n",
            "60000/60000 [==============================] - 21s 347us/step - loss: 0.0983 - acc: 0.9698\n",
            "Epoch 19/20\n",
            "60000/60000 [==============================] - 21s 346us/step - loss: 0.0927 - acc: 0.9717\n",
            "Epoch 20/20\n",
            "60000/60000 [==============================] - 21s 348us/step - loss: 0.0912 - acc: 0.9722\n"
          ],
          "name": "stdout"
        },
        {
          "output_type": "execute_result",
          "data": {
            "text/plain": [
              "<keras.callbacks.History at 0x7f0a79f17fd0>"
            ]
          },
          "metadata": {
            "tags": []
          },
          "execution_count": 4
        }
      ]
    },
    {
      "metadata": {
        "id": "FqkkK5e1dwpf",
        "colab_type": "code",
        "colab": {
          "base_uri": "https://localhost:8080/",
          "height": 71
        },
        "outputId": "0ec7ee3e-c3a7-4cc7-8f3e-d00577ec23ff"
      },
      "cell_type": "code",
      "source": [
        "loss, acc = model.evaluate(x_test, y_test, batch_size=batch_size)\n",
        "print(\"\\nTest accuracy: %.1f%%\" % (100.0 * acc))"
      ],
      "execution_count": 5,
      "outputs": [
        {
          "output_type": "stream",
          "text": [
            "10000/10000 [==============================] - 2s 152us/step\n",
            "\n",
            "Test accuracy: 97.1%\n"
          ],
          "name": "stdout"
        }
      ]
    }
  ]
}