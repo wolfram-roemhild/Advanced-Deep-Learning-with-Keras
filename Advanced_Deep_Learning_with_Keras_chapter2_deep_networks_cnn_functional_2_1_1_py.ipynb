{
  "nbformat": 4,
  "nbformat_minor": 0,
  "metadata": {
    "colab": {
      "name": "Advanced-Deep-Learning-with-Keras/chapter2-deep-networks/cnn-functional-2.1.1.py.ipynb",
      "version": "0.3.2",
      "provenance": [],
      "include_colab_link": true
    },
    "kernelspec": {
      "name": "python3",
      "display_name": "Python 3"
    },
    "accelerator": "GPU"
  },
  "cells": [
    {
      "cell_type": "markdown",
      "metadata": {
        "id": "view-in-github",
        "colab_type": "text"
      },
      "source": [
        "<a href=\"https://colab.research.google.com/github/wolfram-roemhild/Advanced-Deep-Learning-with-Keras/blob/master/Advanced_Deep_Learning_with_Keras_chapter2_deep_networks_cnn_functional_2_1_1_py.ipynb\" target=\"_parent\"><img src=\"https://colab.research.google.com/assets/colab-badge.svg\" alt=\"Open In Colab\"/></a>"
      ]
    },
    {
      "metadata": {
        "id": "sJ3UT8YXiOLw",
        "colab_type": "code",
        "outputId": "f806d7d5-0dce-4335-b53a-5a138e24958a",
        "colab": {
          "base_uri": "https://localhost:8080/",
          "height": 71
        }
      },
      "cell_type": "code",
      "source": [
        "''' Using Functional API to build CNN\n",
        "~99.3% test accuracy\n",
        "'''\n",
        "\n",
        "from __future__ import absolute_import\n",
        "from __future__ import division\n",
        "from __future__ import print_function\n",
        "\n",
        "import numpy as np\n",
        "from keras.layers import Dense, Dropout, Input\n",
        "from keras.layers import Conv2D, MaxPooling2D, Flatten\n",
        "from keras.models import Model\n",
        "from keras.datasets import mnist\n",
        "from keras.utils import to_categorical\n",
        "\n",
        "\n",
        "# load MNIST dataset\n",
        "(x_train, y_train), (x_test, y_test) = mnist.load_data()\n",
        "\n",
        "# from sparse label to categorical\n",
        "num_labels = len(np.unique(y_train))\n",
        "y_train = to_categorical(y_train)\n",
        "y_test = to_categorical(y_test)\n",
        "\n",
        "# reshape and normalize input images\n",
        "image_size = x_train.shape[1]\n",
        "x_train = np.reshape(x_train,[-1, image_size, image_size, 1])\n",
        "x_test = np.reshape(x_test,[-1, image_size, image_size, 1])\n",
        "x_train = x_train.astype('float32') / 255\n",
        "x_test = x_test.astype('float32') / 255\n",
        "\n",
        "# network parameters\n",
        "input_shape = (image_size, image_size, 1)\n",
        "batch_size = 128\n",
        "kernel_size = 3\n",
        "filters = 64\n",
        "dropout = 0.3\n"
      ],
      "execution_count": 0,
      "outputs": [
        {
          "output_type": "stream",
          "text": [
            "Using TensorFlow backend.\n"
          ],
          "name": "stderr"
        },
        {
          "output_type": "stream",
          "text": [
            "Downloading data from https://s3.amazonaws.com/img-datasets/mnist.npz\n",
            "11493376/11490434 [==============================] - 1s 0us/step\n"
          ],
          "name": "stdout"
        }
      ]
    },
    {
      "metadata": {
        "id": "khEXr6u3iTsU",
        "colab_type": "code",
        "outputId": "450ed492-def5-428c-89a7-8ae6e29f52f9",
        "colab": {
          "base_uri": "https://localhost:8080/",
          "height": 467
        }
      },
      "cell_type": "code",
      "source": [
        "# use functional API to build cnn layers\n",
        "inputs = Input(shape=input_shape)\n",
        "y = Conv2D(filters=filters,\n",
        "           kernel_size=kernel_size,\n",
        "           activation='relu')(inputs)\n",
        "y = MaxPooling2D()(y)\n",
        "y = Conv2D(filters=filters,\n",
        "           kernel_size=kernel_size,\n",
        "           activation='relu')(y)\n",
        "y = MaxPooling2D()(y)\n",
        "y = Conv2D(filters=filters,\n",
        "           kernel_size=kernel_size,\n",
        "           activation='relu')(y)\n",
        "# image to vector before connecting to dense layer\n",
        "y = Flatten()(y)\n",
        "# dropout regularization\n",
        "y = Dropout(dropout)(y)\n",
        "outputs = Dense(num_labels, activation='softmax')(y)\n",
        "\n",
        "# build the model by supplying inputs/outputs\n",
        "model = Model(inputs=inputs, outputs=outputs)\n",
        "# network model in text\n",
        "model.summary()"
      ],
      "execution_count": 0,
      "outputs": [
        {
          "output_type": "stream",
          "text": [
            "_________________________________________________________________\n",
            "Layer (type)                 Output Shape              Param #   \n",
            "=================================================================\n",
            "input_1 (InputLayer)         (None, 28, 28, 1)         0         \n",
            "_________________________________________________________________\n",
            "conv2d_1 (Conv2D)            (None, 26, 26, 64)        640       \n",
            "_________________________________________________________________\n",
            "max_pooling2d_1 (MaxPooling2 (None, 13, 13, 64)        0         \n",
            "_________________________________________________________________\n",
            "conv2d_2 (Conv2D)            (None, 11, 11, 64)        36928     \n",
            "_________________________________________________________________\n",
            "max_pooling2d_2 (MaxPooling2 (None, 5, 5, 64)          0         \n",
            "_________________________________________________________________\n",
            "conv2d_3 (Conv2D)            (None, 3, 3, 64)          36928     \n",
            "_________________________________________________________________\n",
            "flatten_1 (Flatten)          (None, 576)               0         \n",
            "_________________________________________________________________\n",
            "dropout_1 (Dropout)          (None, 576)               0         \n",
            "_________________________________________________________________\n",
            "dense_1 (Dense)              (None, 10)                5770      \n",
            "=================================================================\n",
            "Total params: 80,266\n",
            "Trainable params: 80,266\n",
            "Non-trainable params: 0\n",
            "_________________________________________________________________\n"
          ],
          "name": "stdout"
        }
      ]
    },
    {
      "metadata": {
        "id": "h2Ia2YXNinLC",
        "colab_type": "code",
        "outputId": "c4e4a322-282a-41dc-a02b-bd937beb2235",
        "colab": {
          "base_uri": "https://localhost:8080/",
          "height": 773
        }
      },
      "cell_type": "code",
      "source": [
        "# classifier loss, Adam optimizer, classifier accuracy\n",
        "model.compile(loss='categorical_crossentropy',\n",
        "              optimizer='adam',\n",
        "              metrics=['accuracy'])\n",
        "\n",
        "# train the model with input images and labels\n",
        "model.fit(x_train,\n",
        "          y_train,\n",
        "          validation_data=(x_test, y_test),\n",
        "          epochs=20,\n",
        "          batch_size=batch_size)"
      ],
      "execution_count": 0,
      "outputs": [
        {
          "output_type": "stream",
          "text": [
            "Train on 60000 samples, validate on 10000 samples\n",
            "Epoch 1/20\n",
            "60000/60000 [==============================] - 10s 171us/step - loss: 0.2771 - acc: 0.9164 - val_loss: 0.0636 - val_acc: 0.9784\n",
            "Epoch 2/20\n",
            "60000/60000 [==============================] - 6s 106us/step - loss: 0.0757 - acc: 0.9769 - val_loss: 0.0385 - val_acc: 0.9877\n",
            "Epoch 3/20\n",
            "60000/60000 [==============================] - 6s 105us/step - loss: 0.0541 - acc: 0.9832 - val_loss: 0.0305 - val_acc: 0.9901\n",
            "Epoch 4/20\n",
            "60000/60000 [==============================] - 6s 106us/step - loss: 0.0445 - acc: 0.9860 - val_loss: 0.0258 - val_acc: 0.9913\n",
            "Epoch 5/20\n",
            "60000/60000 [==============================] - 6s 107us/step - loss: 0.0363 - acc: 0.9889 - val_loss: 0.0258 - val_acc: 0.9918\n",
            "Epoch 6/20\n",
            "60000/60000 [==============================] - 6s 108us/step - loss: 0.0316 - acc: 0.9902 - val_loss: 0.0238 - val_acc: 0.9931\n",
            "Epoch 7/20\n",
            "60000/60000 [==============================] - 7s 109us/step - loss: 0.0259 - acc: 0.9917 - val_loss: 0.0236 - val_acc: 0.9926\n",
            "Epoch 8/20\n",
            "60000/60000 [==============================] - 6s 106us/step - loss: 0.0245 - acc: 0.9921 - val_loss: 0.0211 - val_acc: 0.9930\n",
            "Epoch 9/20\n",
            "60000/60000 [==============================] - 6s 107us/step - loss: 0.0224 - acc: 0.9932 - val_loss: 0.0214 - val_acc: 0.9924\n",
            "Epoch 10/20\n",
            "60000/60000 [==============================] - 6s 107us/step - loss: 0.0188 - acc: 0.9939 - val_loss: 0.0199 - val_acc: 0.9936\n",
            "Epoch 11/20\n",
            "60000/60000 [==============================] - 6s 107us/step - loss: 0.0183 - acc: 0.9935 - val_loss: 0.0215 - val_acc: 0.9938\n",
            "Epoch 12/20\n",
            "60000/60000 [==============================] - 6s 107us/step - loss: 0.0150 - acc: 0.9949 - val_loss: 0.0207 - val_acc: 0.9932\n",
            "Epoch 13/20\n",
            "60000/60000 [==============================] - 6s 106us/step - loss: 0.0153 - acc: 0.9951 - val_loss: 0.0220 - val_acc: 0.9928\n",
            "Epoch 14/20\n",
            "60000/60000 [==============================] - 6s 107us/step - loss: 0.0139 - acc: 0.9956 - val_loss: 0.0226 - val_acc: 0.9923\n",
            "Epoch 15/20\n",
            "60000/60000 [==============================] - 6s 107us/step - loss: 0.0131 - acc: 0.9954 - val_loss: 0.0228 - val_acc: 0.9933\n",
            "Epoch 16/20\n",
            "60000/60000 [==============================] - 6s 107us/step - loss: 0.0111 - acc: 0.9963 - val_loss: 0.0236 - val_acc: 0.9935\n",
            "Epoch 17/20\n",
            "60000/60000 [==============================] - 6s 106us/step - loss: 0.0113 - acc: 0.9960 - val_loss: 0.0239 - val_acc: 0.9930\n",
            "Epoch 18/20\n",
            "60000/60000 [==============================] - 6s 105us/step - loss: 0.0111 - acc: 0.9966 - val_loss: 0.0216 - val_acc: 0.9940\n",
            "Epoch 19/20\n",
            "60000/60000 [==============================] - 6s 105us/step - loss: 0.0097 - acc: 0.9967 - val_loss: 0.0228 - val_acc: 0.9931\n",
            "Epoch 20/20\n",
            "60000/60000 [==============================] - 7s 119us/step - loss: 0.0088 - acc: 0.9972 - val_loss: 0.0223 - val_acc: 0.9938\n"
          ],
          "name": "stdout"
        },
        {
          "output_type": "execute_result",
          "data": {
            "text/plain": [
              "<keras.callbacks.History at 0x7f5a692cf7b8>"
            ]
          },
          "metadata": {
            "tags": []
          },
          "execution_count": 3
        }
      ]
    },
    {
      "metadata": {
        "id": "qt_LfcTMiyUm",
        "colab_type": "code",
        "outputId": "a46ee6fd-4d41-4eaf-f4c9-b34c3e2e0f04",
        "colab": {
          "base_uri": "https://localhost:8080/",
          "height": 71
        }
      },
      "cell_type": "code",
      "source": [
        "# model accuracy on test dataset\n",
        "score = model.evaluate(x_test, y_test, batch_size=batch_size)\n",
        "print(\"\\nTest accuracy: %.2f%%\" % (100.0 * score[1]))"
      ],
      "execution_count": 0,
      "outputs": [
        {
          "output_type": "stream",
          "text": [
            "10000/10000 [==============================] - 0s 46us/step\n",
            "\n",
            "Test accuracy: 99.38%\n"
          ],
          "name": "stdout"
        }
      ]
    }
  ]
}