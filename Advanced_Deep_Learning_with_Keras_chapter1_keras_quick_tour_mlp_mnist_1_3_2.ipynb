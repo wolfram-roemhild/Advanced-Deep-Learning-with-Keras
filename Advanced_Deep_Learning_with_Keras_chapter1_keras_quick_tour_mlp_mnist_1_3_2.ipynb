{
  "nbformat": 4,
  "nbformat_minor": 0,
  "metadata": {
    "colab": {
      "name": "Advanced-Deep-Learning-with-Keras/chapter1-keras-quick-tour/mlp-mnist-1.3.2.ipynb",
      "version": "0.3.2",
      "provenance": [],
      "include_colab_link": true
    },
    "kernelspec": {
      "name": "python3",
      "display_name": "Python 3"
    }
  },
  "cells": [
    {
      "cell_type": "markdown",
      "metadata": {
        "id": "view-in-github",
        "colab_type": "text"
      },
      "source": [
        "<a href=\"https://colab.research.google.com/github/wolfram-roemhild/Advanced-Deep-Learning-with-Keras/blob/master/Advanced_Deep_Learning_with_Keras_chapter1_keras_quick_tour_mlp_mnist_1_3_2.ipynb\" target=\"_parent\"><img src=\"https://colab.research.google.com/assets/colab-badge.svg\" alt=\"Open In Colab\"/></a>"
      ]
    },
    {
      "metadata": {
        "id": "KOiclHgmGlYW",
        "colab_type": "text"
      },
      "cell_type": "markdown",
      "source": [
        "A MLP network for MNIST digits classification\n",
        "\n",
        "98.3% test accuracy in 20epochs\n",
        "\n",
        "https://github.com/PacktPublishing/Advanced-Deep-Learning-with-Keras"
      ]
    },
    {
      "metadata": {
        "id": "HcyNoretGrtV",
        "colab_type": "code",
        "colab": {
          "base_uri": "https://localhost:8080/",
          "height": 69
        },
        "outputId": "ff065199-9c3a-42d3-c057-ce67494a5cf8"
      },
      "cell_type": "code",
      "source": [
        "from __future__ import absolute_import\n",
        "from __future__ import division\n",
        "from __future__ import print_function\n",
        "\n",
        "import numpy as np\n",
        "from keras.models import Sequential\n",
        "from keras.layers import Dense, Activation, Dropout\n",
        "from keras.utils import to_categorical, plot_model\n",
        "from keras.datasets import mnist\n",
        "\n",
        "# load mnist dataset\n",
        "(x_train, y_train), (x_test, y_test) = mnist.load_data()"
      ],
      "execution_count": 1,
      "outputs": [
        {
          "output_type": "stream",
          "text": [
            "Using TensorFlow backend.\n"
          ],
          "name": "stderr"
        },
        {
          "output_type": "stream",
          "text": [
            "Downloading data from https://s3.amazonaws.com/img-datasets/mnist.npz\n",
            "11493376/11490434 [==============================] - 1s 0us/step\n"
          ],
          "name": "stdout"
        }
      ]
    },
    {
      "metadata": {
        "id": "ryvSJ3dCHJQj",
        "colab_type": "code",
        "outputId": "00a7b1d8-3917-47a9-d0ef-0edc7cea9fda",
        "colab": {
          "base_uri": "https://localhost:8080/",
          "height": 52
        }
      },
      "cell_type": "code",
      "source": [
        "\n",
        "# count the number of unique train labels\n",
        "unique, counts = np.unique(y_train, return_counts=True)\n",
        "print(\"Train labels: \", dict(zip(unique, counts)))\n",
        "\n",
        "# count the number of unique test labels\n",
        "unique, counts = np.unique(y_test, return_counts=True)\n",
        "print(\"Test labels: \", dict(zip(unique, counts)))"
      ],
      "execution_count": 2,
      "outputs": [
        {
          "output_type": "stream",
          "text": [
            "Train labels:  {0: 5923, 1: 6742, 2: 5958, 3: 6131, 4: 5842, 5: 5421, 6: 5918, 7: 6265, 8: 5851, 9: 5949}\n",
            "Test labels:  {0: 980, 1: 1135, 2: 1032, 3: 1010, 4: 982, 5: 892, 6: 958, 7: 1028, 8: 974, 9: 1009}\n"
          ],
          "name": "stdout"
        }
      ]
    },
    {
      "metadata": {
        "id": "41lFxvDlHazd",
        "colab_type": "code",
        "outputId": "adbb4710-5c4c-430a-84e5-d9a3cc1f5492",
        "colab": {
          "base_uri": "https://localhost:8080/",
          "height": 35
        }
      },
      "cell_type": "code",
      "source": [
        "# compute the number of labels\n",
        "num_labels = len(np.unique(y_train))\n",
        "num_labels"
      ],
      "execution_count": 3,
      "outputs": [
        {
          "output_type": "execute_result",
          "data": {
            "text/plain": [
              "10"
            ]
          },
          "metadata": {
            "tags": []
          },
          "execution_count": 3
        }
      ]
    },
    {
      "metadata": {
        "id": "PzYrh2VbH4m1",
        "colab_type": "code",
        "outputId": "847990e3-f562-4889-aab9-aa2dd2748ecc",
        "colab": {
          "base_uri": "https://localhost:8080/",
          "height": 35
        }
      },
      "cell_type": "code",
      "source": [
        "# convert to one-hot vector\n",
        "y_train = to_categorical(y_train)\n",
        "y_test = to_categorical(y_test)\n",
        "\n",
        "# image dimensions (assumed square)\n",
        "image_size = x_train.shape[1]\n",
        "input_size = image_size * image_size\n",
        "input_size"
      ],
      "execution_count": 4,
      "outputs": [
        {
          "output_type": "execute_result",
          "data": {
            "text/plain": [
              "784"
            ]
          },
          "metadata": {
            "tags": []
          },
          "execution_count": 4
        }
      ]
    },
    {
      "metadata": {
        "id": "69s8JyU6IQ3r",
        "colab_type": "code",
        "colab": {}
      },
      "cell_type": "code",
      "source": [
        "# resize and normalize\n",
        "x_train = np.reshape(x_train, [-1, input_size])\n",
        "x_train = x_train.astype('float32') / 255\n",
        "x_test = np.reshape(x_test, [-1, input_size])\n",
        "x_test = x_test.astype('float32') / 255"
      ],
      "execution_count": 0,
      "outputs": []
    },
    {
      "metadata": {
        "id": "vUDERD0eIh0r",
        "colab_type": "code",
        "colab": {}
      },
      "cell_type": "code",
      "source": [
        "# network parameters\n",
        "batch_size = 128\n",
        "hidden_units = 256\n",
        "dropout = 0.3"
      ],
      "execution_count": 0,
      "outputs": []
    },
    {
      "metadata": {
        "id": "52Xt_K-qIjzs",
        "colab_type": "code",
        "outputId": "f2807e96-1539-4498-f7e6-2cf8395c9cde",
        "colab": {
          "base_uri": "https://localhost:8080/",
          "height": 520
        }
      },
      "cell_type": "code",
      "source": [
        "# model is a 3-layer MLP with ReLU and dropout after each layer\n",
        "model = Sequential()\n",
        "model.add(Dense(hidden_units, input_dim=input_size))\n",
        "model.add(Activation('softplus'))\n",
        "model.add(Dropout(dropout))\n",
        "model.add(Dense(hidden_units))\n",
        "model.add(Activation('softplus'))\n",
        "model.add(Dropout(dropout))\n",
        "model.add(Dense(hidden_units))\n",
        "model.add(Activation('softplus'))\n",
        "model.add(Dropout(dropout))\n",
        "model.add(Dense(num_labels))\n",
        "# this is the output for one-hot vector\n",
        "model.add(Activation('softmax'))\n",
        "model.summary()\n",
        "plot_model(model, to_file='mlp-mnist.png', show_shapes=True)\n"
      ],
      "execution_count": 7,
      "outputs": [
        {
          "output_type": "stream",
          "text": [
            "_________________________________________________________________\n",
            "Layer (type)                 Output Shape              Param #   \n",
            "=================================================================\n",
            "dense_1 (Dense)              (None, 256)               200960    \n",
            "_________________________________________________________________\n",
            "activation_1 (Activation)    (None, 256)               0         \n",
            "_________________________________________________________________\n",
            "dropout_1 (Dropout)          (None, 256)               0         \n",
            "_________________________________________________________________\n",
            "dense_2 (Dense)              (None, 256)               65792     \n",
            "_________________________________________________________________\n",
            "activation_2 (Activation)    (None, 256)               0         \n",
            "_________________________________________________________________\n",
            "dropout_2 (Dropout)          (None, 256)               0         \n",
            "_________________________________________________________________\n",
            "dense_3 (Dense)              (None, 256)               65792     \n",
            "_________________________________________________________________\n",
            "activation_3 (Activation)    (None, 256)               0         \n",
            "_________________________________________________________________\n",
            "dropout_3 (Dropout)          (None, 256)               0         \n",
            "_________________________________________________________________\n",
            "dense_4 (Dense)              (None, 10)                2570      \n",
            "_________________________________________________________________\n",
            "activation_4 (Activation)    (None, 10)                0         \n",
            "=================================================================\n",
            "Total params: 335,114\n",
            "Trainable params: 335,114\n",
            "Non-trainable params: 0\n",
            "_________________________________________________________________\n"
          ],
          "name": "stdout"
        }
      ]
    },
    {
      "metadata": {
        "id": "TKjg1S3WNG6W",
        "colab_type": "code",
        "colab": {}
      },
      "cell_type": "code",
      "source": [
        "# loss function for one-hot vector\n",
        "# use of adam optimizer\n",
        "# accuracy is good metric for classification tasks\n",
        "model.compile(loss='categorical_crossentropy',\n",
        "              optimizer='adam',\n",
        "              metrics=['accuracy'])"
      ],
      "execution_count": 0,
      "outputs": []
    },
    {
      "metadata": {
        "id": "p0Uq7DzBNhoh",
        "colab_type": "code",
        "outputId": "3a102a75-6850-4357-f2d7-34b57d412d98",
        "colab": {
          "base_uri": "https://localhost:8080/",
          "height": 1075
        }
      },
      "cell_type": "code",
      "source": [
        "# train the network\n",
        "model.fit(x_train, y_train, epochs=30, batch_size=batch_size)\n"
      ],
      "execution_count": 11,
      "outputs": [
        {
          "output_type": "stream",
          "text": [
            "Epoch 1/30\n",
            "60000/60000 [==============================] - 7s 112us/step - loss: 0.6468 - acc: 0.7869\n",
            "Epoch 2/30\n",
            "60000/60000 [==============================] - 6s 100us/step - loss: 0.2716 - acc: 0.9165\n",
            "Epoch 3/30\n",
            "60000/60000 [==============================] - 6s 101us/step - loss: 0.2036 - acc: 0.9378\n",
            "Epoch 4/30\n",
            "60000/60000 [==============================] - 6s 101us/step - loss: 0.1662 - acc: 0.9479\n",
            "Epoch 5/30\n",
            "60000/60000 [==============================] - 6s 99us/step - loss: 0.1436 - acc: 0.9560\n",
            "Epoch 6/30\n",
            "60000/60000 [==============================] - 6s 97us/step - loss: 0.1242 - acc: 0.9619\n",
            "Epoch 7/30\n",
            "60000/60000 [==============================] - 6s 100us/step - loss: 0.1101 - acc: 0.9652\n",
            "Epoch 8/30\n",
            "60000/60000 [==============================] - 6s 104us/step - loss: 0.0996 - acc: 0.9688\n",
            "Epoch 9/30\n",
            "60000/60000 [==============================] - 6s 104us/step - loss: 0.0901 - acc: 0.9719\n",
            "Epoch 10/30\n",
            "60000/60000 [==============================] - 6s 102us/step - loss: 0.0852 - acc: 0.9733\n",
            "Epoch 11/30\n",
            "60000/60000 [==============================] - 6s 99us/step - loss: 0.0783 - acc: 0.9755\n",
            "Epoch 12/30\n",
            "60000/60000 [==============================] - 6s 101us/step - loss: 0.0726 - acc: 0.9767\n",
            "Epoch 13/30\n",
            "60000/60000 [==============================] - 6s 102us/step - loss: 0.0686 - acc: 0.9782\n",
            "Epoch 14/30\n",
            "60000/60000 [==============================] - 6s 98us/step - loss: 0.0623 - acc: 0.9802\n",
            "Epoch 15/30\n",
            "60000/60000 [==============================] - 6s 102us/step - loss: 0.0592 - acc: 0.9812\n",
            "Epoch 16/30\n",
            "60000/60000 [==============================] - 6s 100us/step - loss: 0.0564 - acc: 0.9816\n",
            "Epoch 17/30\n",
            "60000/60000 [==============================] - 6s 101us/step - loss: 0.0533 - acc: 0.9827\n",
            "Epoch 18/30\n",
            "60000/60000 [==============================] - 6s 101us/step - loss: 0.0486 - acc: 0.9846\n",
            "Epoch 19/30\n",
            "60000/60000 [==============================] - 6s 99us/step - loss: 0.0467 - acc: 0.9849\n",
            "Epoch 20/30\n",
            "60000/60000 [==============================] - 6s 98us/step - loss: 0.0421 - acc: 0.9864\n",
            "Epoch 21/30\n",
            "60000/60000 [==============================] - 6s 99us/step - loss: 0.0438 - acc: 0.9858\n",
            "Epoch 22/30\n",
            "60000/60000 [==============================] - 6s 98us/step - loss: 0.0413 - acc: 0.9870\n",
            "Epoch 23/30\n",
            "60000/60000 [==============================] - 6s 98us/step - loss: 0.0394 - acc: 0.9873\n",
            "Epoch 24/30\n",
            "60000/60000 [==============================] - 6s 101us/step - loss: 0.0376 - acc: 0.9869\n",
            "Epoch 25/30\n",
            "60000/60000 [==============================] - 6s 103us/step - loss: 0.0365 - acc: 0.9880\n",
            "Epoch 26/30\n",
            "60000/60000 [==============================] - 6s 100us/step - loss: 0.0350 - acc: 0.9888\n",
            "Epoch 27/30\n",
            "60000/60000 [==============================] - 6s 98us/step - loss: 0.0332 - acc: 0.9885\n",
            "Epoch 28/30\n",
            "60000/60000 [==============================] - 6s 97us/step - loss: 0.0314 - acc: 0.9898\n",
            "Epoch 29/30\n",
            "60000/60000 [==============================] - 6s 96us/step - loss: 0.0301 - acc: 0.9897\n",
            "Epoch 30/30\n",
            "60000/60000 [==============================] - 6s 100us/step - loss: 0.0293 - acc: 0.9904\n"
          ],
          "name": "stdout"
        },
        {
          "output_type": "execute_result",
          "data": {
            "text/plain": [
              "<keras.callbacks.History at 0x7fbabfa60a90>"
            ]
          },
          "metadata": {
            "tags": []
          },
          "execution_count": 11
        }
      ]
    },
    {
      "metadata": {
        "id": "bS1Q-LttNmtC",
        "colab_type": "code",
        "colab": {
          "base_uri": "https://localhost:8080/",
          "height": 104
        },
        "outputId": "03dcb476-bd7a-4ffe-f303-c63cd1a20193"
      },
      "cell_type": "code",
      "source": [
        "# validate the model on test dataset to determine generalization\n",
        "loss, acc = model.evaluate(x_test, y_test)\n",
        "print(\"\\nTest accuracy: %.1f%%\" % (100.0 * acc))\n",
        "print(\"\\nwrong cases: %.0f\" % (10000.0 * (1-acc)))\n"
      ],
      "execution_count": 12,
      "outputs": [
        {
          "output_type": "stream",
          "text": [
            "10000/10000 [==============================] - 0s 50us/step\n",
            "\n",
            "Test accuracy: 98.4%\n",
            "\n",
            "wrong cases: 160\n"
          ],
          "name": "stdout"
        }
      ]
    }
  ]
}