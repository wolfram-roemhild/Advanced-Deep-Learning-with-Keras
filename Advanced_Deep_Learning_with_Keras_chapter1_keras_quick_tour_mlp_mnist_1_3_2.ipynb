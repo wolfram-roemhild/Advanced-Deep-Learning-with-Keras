{
  "nbformat": 4,
  "nbformat_minor": 0,
  "metadata": {
    "colab": {
      "name": "Advanced-Deep-Learning-with-Keras/chapter1-keras-quick-tour/mlp-mnist-1.3.2.ipynb",
      "version": "0.3.2",
      "provenance": [],
      "include_colab_link": true
    },
    "kernelspec": {
      "name": "python3",
      "display_name": "Python 3"
    }
  },
  "cells": [
    {
      "cell_type": "markdown",
      "metadata": {
        "id": "view-in-github",
        "colab_type": "text"
      },
      "source": [
        "<a href=\"https://colab.research.google.com/github/wolfram-roemhild/Advanced-Deep-Learning-with-Keras/blob/master/Advanced_Deep_Learning_with_Keras_chapter1_keras_quick_tour_mlp_mnist_1_3_2.ipynb\" target=\"_parent\"><img src=\"https://colab.research.google.com/assets/colab-badge.svg\" alt=\"Open In Colab\"/></a>"
      ]
    },
    {
      "metadata": {
        "id": "KOiclHgmGlYW",
        "colab_type": "text"
      },
      "cell_type": "markdown",
      "source": [
        "A MLP network for MNIST digits classification\n",
        "\n",
        "98.3% test accuracy in 20epochs\n",
        "\n",
        "https://github.com/PacktPublishing/Advanced-Deep-Learning-with-Keras"
      ]
    },
    {
      "metadata": {
        "id": "HcyNoretGrtV",
        "colab_type": "code",
        "colab": {
          "base_uri": "https://localhost:8080/",
          "height": 35
        },
        "outputId": "febaff58-068d-44d6-afb8-66bec466158d"
      },
      "cell_type": "code",
      "source": [
        "from __future__ import absolute_import\n",
        "from __future__ import division\n",
        "from __future__ import print_function\n",
        "\n",
        "import numpy as np\n",
        "from keras.models import Sequential\n",
        "from keras.layers import Dense, Activation, Dropout\n",
        "from keras.utils import to_categorical, plot_model\n",
        "from keras.datasets import mnist\n",
        "\n",
        "# load mnist dataset\n",
        "(x_train, y_train), (x_test, y_test) = mnist.load_data()"
      ],
      "execution_count": 1,
      "outputs": [
        {
          "output_type": "stream",
          "text": [
            "Using TensorFlow backend.\n"
          ],
          "name": "stderr"
        }
      ]
    },
    {
      "metadata": {
        "id": "ryvSJ3dCHJQj",
        "colab_type": "code",
        "colab": {
          "base_uri": "https://localhost:8080/",
          "height": 53
        },
        "outputId": "059de5e7-301c-41e9-e0d8-debaefb78b19"
      },
      "cell_type": "code",
      "source": [
        "\n",
        "# count the number of unique train labels\n",
        "unique, counts = np.unique(y_train, return_counts=True)\n",
        "print(\"Train labels: \", dict(zip(unique, counts)))\n",
        "\n",
        "# count the number of unique test labels\n",
        "unique, counts = np.unique(y_test, return_counts=True)\n",
        "print(\"Test labels: \", dict(zip(unique, counts)))"
      ],
      "execution_count": 5,
      "outputs": [
        {
          "output_type": "stream",
          "text": [
            "Train labels:  {0: 5923, 1: 6742, 2: 5958, 3: 6131, 4: 5842, 5: 5421, 6: 5918, 7: 6265, 8: 5851, 9: 5949}\n",
            "Test labels:  {0: 980, 1: 1135, 2: 1032, 3: 1010, 4: 982, 5: 892, 6: 958, 7: 1028, 8: 974, 9: 1009}\n"
          ],
          "name": "stdout"
        }
      ]
    },
    {
      "metadata": {
        "id": "41lFxvDlHazd",
        "colab_type": "code",
        "colab": {
          "base_uri": "https://localhost:8080/",
          "height": 35
        },
        "outputId": "a86fd386-bf33-42cf-9596-fe850a91b07b"
      },
      "cell_type": "code",
      "source": [
        "# compute the number of labels\n",
        "num_labels = len(np.unique(y_train))\n",
        "num_labels"
      ],
      "execution_count": 6,
      "outputs": [
        {
          "output_type": "execute_result",
          "data": {
            "text/plain": [
              "10"
            ]
          },
          "metadata": {
            "tags": []
          },
          "execution_count": 6
        }
      ]
    },
    {
      "metadata": {
        "id": "PzYrh2VbH4m1",
        "colab_type": "code",
        "colab": {
          "base_uri": "https://localhost:8080/",
          "height": 35
        },
        "outputId": "cba2c2e5-6e88-4d5c-b709-cb58c16347f9"
      },
      "cell_type": "code",
      "source": [
        "# convert to one-hot vector\n",
        "y_train = to_categorical(y_train)\n",
        "y_test = to_categorical(y_test)\n",
        "\n",
        "# image dimensions (assumed square)\n",
        "image_size = x_train.shape[1]\n",
        "input_size = image_size * image_size\n",
        "input_size"
      ],
      "execution_count": 7,
      "outputs": [
        {
          "output_type": "execute_result",
          "data": {
            "text/plain": [
              "784"
            ]
          },
          "metadata": {
            "tags": []
          },
          "execution_count": 7
        }
      ]
    },
    {
      "metadata": {
        "id": "69s8JyU6IQ3r",
        "colab_type": "code",
        "colab": {}
      },
      "cell_type": "code",
      "source": [
        "# resize and normalize\n",
        "x_train = np.reshape(x_train, [-1, input_size])\n",
        "x_train = x_train.astype('float32') / 255\n",
        "x_test = np.reshape(x_test, [-1, input_size])\n",
        "x_test = x_test.astype('float32') / 255"
      ],
      "execution_count": 0,
      "outputs": []
    },
    {
      "metadata": {
        "id": "vUDERD0eIh0r",
        "colab_type": "code",
        "colab": {}
      },
      "cell_type": "code",
      "source": [
        "# network parameters\n",
        "batch_size = 128\n",
        "hidden_units = 256\n",
        "dropout = 0.45"
      ],
      "execution_count": 0,
      "outputs": []
    },
    {
      "metadata": {
        "id": "52Xt_K-qIjzs",
        "colab_type": "code",
        "colab": {
          "base_uri": "https://localhost:8080/",
          "height": 431
        },
        "outputId": "ff388c8a-cae4-4f36-b61a-ae574fa5a0d3"
      },
      "cell_type": "code",
      "source": [
        "# model is a 3-layer MLP with ReLU and dropout after each layer\n",
        "model = Sequential()\n",
        "model.add(Dense(hidden_units, input_dim=input_size))\n",
        "model.add(Activation('relu'))\n",
        "model.add(Dropout(dropout))\n",
        "model.add(Dense(hidden_units))\n",
        "model.add(Activation('relu'))\n",
        "model.add(Dropout(dropout))\n",
        "model.add(Dense(num_labels))\n",
        "# this is the output for one-hot vector\n",
        "model.add(Activation('softmax'))\n",
        "model.summary()\n",
        "plot_model(model, to_file='mlp-mnist.png', show_shapes=True)\n"
      ],
      "execution_count": 10,
      "outputs": [
        {
          "output_type": "stream",
          "text": [
            "_________________________________________________________________\n",
            "Layer (type)                 Output Shape              Param #   \n",
            "=================================================================\n",
            "dense_1 (Dense)              (None, 256)               200960    \n",
            "_________________________________________________________________\n",
            "activation_1 (Activation)    (None, 256)               0         \n",
            "_________________________________________________________________\n",
            "dropout_1 (Dropout)          (None, 256)               0         \n",
            "_________________________________________________________________\n",
            "dense_2 (Dense)              (None, 256)               65792     \n",
            "_________________________________________________________________\n",
            "activation_2 (Activation)    (None, 256)               0         \n",
            "_________________________________________________________________\n",
            "dropout_2 (Dropout)          (None, 256)               0         \n",
            "_________________________________________________________________\n",
            "dense_3 (Dense)              (None, 10)                2570      \n",
            "_________________________________________________________________\n",
            "activation_3 (Activation)    (None, 10)                0         \n",
            "=================================================================\n",
            "Total params: 269,322\n",
            "Trainable params: 269,322\n",
            "Non-trainable params: 0\n",
            "_________________________________________________________________\n"
          ],
          "name": "stdout"
        }
      ]
    },
    {
      "metadata": {
        "id": "BGN_jtAuJmAW",
        "colab_type": "code",
        "colab": {}
      },
      "cell_type": "code",
      "source": [
        "import matplotlib.pyplot as plt\n"
      ],
      "execution_count": 0,
      "outputs": []
    },
    {
      "metadata": {
        "id": "85UqTudFKuCh",
        "colab_type": "code",
        "colab": {
          "base_uri": "https://localhost:8080/",
          "height": 35
        },
        "outputId": "1d98290b-043c-4b19-c620-2ecb42166da5"
      },
      "cell_type": "code",
      "source": [
        "plt.figure()\n",
        "plt.imread('mlp-mnist.png')\n",
        "plt.show()\n",
        "plt.close('all')"
      ],
      "execution_count": 14,
      "outputs": [
        {
          "output_type": "display_data",
          "data": {
            "text/plain": [
              "<matplotlib.figure.Figure at 0x7f35945e72e8>"
            ]
          },
          "metadata": {
            "tags": []
          }
        }
      ]
    },
    {
      "metadata": {
        "id": "TKjg1S3WNG6W",
        "colab_type": "code",
        "colab": {}
      },
      "cell_type": "code",
      "source": [
        "# loss function for one-hot vector\n",
        "# use of adam optimizer\n",
        "# accuracy is good metric for classification tasks\n",
        "model.compile(loss='categorical_crossentropy',\n",
        "              optimizer='adam',\n",
        "              metrics=['accuracy'])"
      ],
      "execution_count": 0,
      "outputs": []
    },
    {
      "metadata": {
        "id": "p0Uq7DzBNhoh",
        "colab_type": "code",
        "colab": {
          "base_uri": "https://localhost:8080/",
          "height": 755
        },
        "outputId": "57d25bff-c9a4-4ce4-9731-c58af6ea2ac0"
      },
      "cell_type": "code",
      "source": [
        "# train the network\n",
        "model.fit(x_train, y_train, epochs=20, batch_size=batch_size)\n"
      ],
      "execution_count": 16,
      "outputs": [
        {
          "output_type": "stream",
          "text": [
            "Epoch 1/20\n",
            "60000/60000 [==============================] - 5s 88us/step - loss: 0.4275 - acc: 0.8689\n",
            "Epoch 2/20\n",
            "60000/60000 [==============================] - 5s 76us/step - loss: 0.1941 - acc: 0.9421\n",
            "Epoch 3/20\n",
            "60000/60000 [==============================] - 5s 77us/step - loss: 0.1511 - acc: 0.9546\n",
            "Epoch 4/20\n",
            "60000/60000 [==============================] - 5s 77us/step - loss: 0.1299 - acc: 0.9597\n",
            "Epoch 5/20\n",
            "60000/60000 [==============================] - 5s 76us/step - loss: 0.1155 - acc: 0.9651\n",
            "Epoch 6/20\n",
            "60000/60000 [==============================] - 5s 76us/step - loss: 0.1048 - acc: 0.9681\n",
            "Epoch 7/20\n",
            "60000/60000 [==============================] - 5s 77us/step - loss: 0.0974 - acc: 0.9700\n",
            "Epoch 8/20\n",
            "60000/60000 [==============================] - 5s 76us/step - loss: 0.0906 - acc: 0.9718\n",
            "Epoch 9/20\n",
            "60000/60000 [==============================] - 5s 77us/step - loss: 0.0799 - acc: 0.9750\n",
            "Epoch 10/20\n",
            "60000/60000 [==============================] - 5s 75us/step - loss: 0.0782 - acc: 0.9750\n",
            "Epoch 11/20\n",
            "60000/60000 [==============================] - 5s 76us/step - loss: 0.0754 - acc: 0.9756\n",
            "Epoch 12/20\n",
            "60000/60000 [==============================] - 5s 79us/step - loss: 0.0699 - acc: 0.9777\n",
            "Epoch 13/20\n",
            "60000/60000 [==============================] - 5s 79us/step - loss: 0.0687 - acc: 0.9783\n",
            "Epoch 14/20\n",
            "60000/60000 [==============================] - 5s 77us/step - loss: 0.0653 - acc: 0.9793\n",
            "Epoch 15/20\n",
            "60000/60000 [==============================] - 5s 83us/step - loss: 0.0633 - acc: 0.9794\n",
            "Epoch 16/20\n",
            "60000/60000 [==============================] - 5s 84us/step - loss: 0.0617 - acc: 0.9798\n",
            "Epoch 17/20\n",
            "60000/60000 [==============================] - 5s 79us/step - loss: 0.0583 - acc: 0.9813\n",
            "Epoch 18/20\n",
            "60000/60000 [==============================] - 5s 78us/step - loss: 0.0577 - acc: 0.9817\n",
            "Epoch 19/20\n",
            "60000/60000 [==============================] - 5s 79us/step - loss: 0.0527 - acc: 0.9825\n",
            "Epoch 20/20\n",
            "60000/60000 [==============================] - 5s 77us/step - loss: 0.0532 - acc: 0.9828\n"
          ],
          "name": "stdout"
        },
        {
          "output_type": "execute_result",
          "data": {
            "text/plain": [
              "<keras.callbacks.History at 0x7f3590ad6fd0>"
            ]
          },
          "metadata": {
            "tags": []
          },
          "execution_count": 16
        }
      ]
    },
    {
      "metadata": {
        "id": "bS1Q-LttNmtC",
        "colab_type": "code",
        "colab": {
          "base_uri": "https://localhost:8080/",
          "height": 71
        },
        "outputId": "98237b93-6fb2-498d-f55d-6a51c5f67186"
      },
      "cell_type": "code",
      "source": [
        "# validate the model on test dataset to determine generalization\n",
        "loss, acc = model.evaluate(x_test, y_test)\n",
        "print(\"\\nTest accuracy: %.1f%%\" % (100.0 * acc))"
      ],
      "execution_count": 19,
      "outputs": [
        {
          "output_type": "stream",
          "text": [
            "10000/10000 [==============================] - 0s 35us/step\n",
            "\n",
            "Test accuracy: 98.1%\n"
          ],
          "name": "stdout"
        }
      ]
    }
  ]
}